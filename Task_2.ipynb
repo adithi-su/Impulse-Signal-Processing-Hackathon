{
  "nbformat": 4,
  "nbformat_minor": 0,
  "metadata": {
    "colab": {
      "name": "Task_2.ipynb",
      "provenance": [],
      "collapsed_sections": []
    },
    "kernelspec": {
      "name": "python3",
      "display_name": "Python 3"
    }
  },
  "cells": [
    {
      "cell_type": "markdown",
      "metadata": {
        "id": "ez_7oX3NqXWO"
      },
      "source": [
        "Getting the Task 2 data file"
      ]
    },
    {
      "cell_type": "code",
      "metadata": {
        "id": "vV_YItJZTG3e"
      },
      "source": [
        "# Import PyDrive and associated libraries.\n",
        "# This only needs to be done once per notebook.\n",
        "from pydrive.auth import GoogleAuth\n",
        "from pydrive.drive import GoogleDrive\n",
        "from google.colab import auth\n",
        "from oauth2client.client import GoogleCredentials\n",
        "\n",
        "# Authenticate and create the PyDrive client.\n",
        "# This only needs to be done once per notebook.\n",
        "auth.authenticate_user()\n",
        "gauth = GoogleAuth()\n",
        "gauth.credentials = GoogleCredentials.get_application_default()\n",
        "drive = GoogleDrive(gauth)\n",
        "\n",
        "# Download a file based on its file ID.\n",
        "#https://drive.google.com/file/d/13hOJmMQvd8qEx1uZbQzC_14Uv98omW6z/view?usp=sharing\n",
        "# A file ID looks like: laggVyWshwcyP6kEI-y_W3P8D26sz\n",
        "file_id = '13hOJmMQvd8qEx1uZbQzC_14Uv98omW6z'\n",
        "downloaded = drive.CreateFile({'id': file_id})\n",
        "downloaded.GetContentFile('Task2.mat')  \n",
        "# print('Downloaded content \"{}\"'.format(downloaded.GetContentString()))"
      ],
      "execution_count": 127,
      "outputs": []
    },
    {
      "cell_type": "code",
      "metadata": {
        "id": "YWSx0eX3p57U"
      },
      "source": [
        "#Install this if haven't done already\n",
        "# !pip install numpy"
      ],
      "execution_count": 128,
      "outputs": []
    },
    {
      "cell_type": "code",
      "metadata": {
        "id": "mh0l1XrQoaPs"
      },
      "source": [
        "import numpy as np\n",
        "import scipy.io\n",
        "#Getting the file\n",
        "mat = scipy.io.loadmat('Task2.mat')"
      ],
      "execution_count": 129,
      "outputs": []
    },
    {
      "cell_type": "markdown",
      "metadata": {
        "id": "TMBfF6WarL-A"
      },
      "source": [
        "Checking the shapes of the data matrices"
      ]
    },
    {
      "cell_type": "code",
      "metadata": {
        "colab": {
          "base_uri": "https://localhost:8080/"
        },
        "id": "F3cEbX9Wg9iE",
        "outputId": "face92fa-c080-4001-d8f5-fc283d943a61"
      },
      "source": [
        "mat['A'].shape"
      ],
      "execution_count": 130,
      "outputs": [
        {
          "output_type": "execute_result",
          "data": {
            "text/plain": [
              "(5, 5, 256)"
            ]
          },
          "metadata": {
            "tags": []
          },
          "execution_count": 130
        }
      ]
    },
    {
      "cell_type": "code",
      "metadata": {
        "colab": {
          "base_uri": "https://localhost:8080/"
        },
        "id": "nzQ5RveOrK9C",
        "outputId": "afbc036a-893f-4c41-f6ac-d2797b2e7507"
      },
      "source": [
        "mat['Image'].shape"
      ],
      "execution_count": 131,
      "outputs": [
        {
          "output_type": "execute_result",
          "data": {
            "text/plain": [
              "(5, 5)"
            ]
          },
          "metadata": {
            "tags": []
          },
          "execution_count": 131
        }
      ]
    },
    {
      "cell_type": "code",
      "metadata": {
        "id": "NQP2MGSArzlg"
      },
      "source": [
        "A = mat['A']\n",
        "y = mat['Image']"
      ],
      "execution_count": 132,
      "outputs": []
    },
    {
      "cell_type": "markdown",
      "metadata": {
        "id": "8skANSZNtuLt"
      },
      "source": [
        "Checkig the data"
      ]
    },
    {
      "cell_type": "code",
      "metadata": {
        "colab": {
          "base_uri": "https://localhost:8080/",
          "height": 34
        },
        "id": "SgTanoQoq_Ao",
        "outputId": "611ab81a-9435-4eb0-f7f4-41643fd6d42e"
      },
      "source": [
        "import cv2\n",
        "from google.colab.patches import cv2_imshow\n",
        "import matplotlib.pyplot as plt\n",
        "# img = cv2.imread(y)\n",
        "cv2_imshow(y)"
      ],
      "execution_count": 133,
      "outputs": [
        {
          "output_type": "display_data",
          "data": {
            "image/png": "[encoded data removed]",
            "text/plain": [
              "<PIL.Image.Image image mode=L size=5x5 at 0x7F29AFA8EEF0>"
            ]
          },
          "metadata": {
            "tags": []
          }
        }
      ]
    },
    {
      "cell_type": "code",
      "metadata": {
        "colab": {
          "base_uri": "https://localhost:8080/"
        },
        "id": "TZuh6zs7siQO",
        "outputId": "d4bb6675-d5bf-46ad-ea8c-82caf37de26a"
      },
      "source": [
        "y"
      ],
      "execution_count": 134,
      "outputs": [
        {
          "output_type": "execute_result",
          "data": {
            "text/plain": [
              "array([[0, 0, 0, 0, 0],\n",
              "       [0, 1, 0, 1, 0],\n",
              "       [0, 0, 1, 0, 0],\n",
              "       [0, 1, 1, 1, 0],\n",
              "       [0, 0, 0, 0, 0]], dtype=uint8)"
            ]
          },
          "metadata": {
            "tags": []
          },
          "execution_count": 134
        }
      ]
    },
    {
      "cell_type": "code",
      "metadata": {
        "colab": {
          "base_uri": "https://localhost:8080/",
          "height": 265
        },
        "id": "GGf_RYacsIUI",
        "outputId": "bd86227f-7e6b-496b-ac92-62c83b46579a"
      },
      "source": [
        "plt.imshow(y,interpolation='nearest')\n",
        "plt.show()"
      ],
      "execution_count": 135,
      "outputs": [
        {
          "output_type": "display_data",
          "data": {
            "image/png": "[encoded data removed]",
            "text/plain": [
              "<Figure size 432x288 with 1 Axes>"
            ]
          },
          "metadata": {
            "tags": [],
            "needs_background": "light"
          }
        }
      ]
    },
    {
      "cell_type": "code",
      "metadata": {
        "colab": {
          "base_uri": "https://localhost:8080/",
          "height": 265
        },
        "id": "Oc2v50Q4tB_V",
        "outputId": "9a710640-e718-499c-e4bb-84cb7ba3a995"
      },
      "source": [
        "plt.imshow(y,cmap='gray', vmin = 0, vmax = 1,interpolation='none')\n",
        "plt.show()"
      ],
      "execution_count": 136,
      "outputs": [
        {
          "output_type": "display_data",
          "data": {
            "image/png": "[encoded data removed]",
            "text/plain": [
              "<Figure size 432x288 with 1 Axes>"
            ]
          },
          "metadata": {
            "tags": [],
            "needs_background": "light"
          }
        }
      ]
    },
    {
      "cell_type": "code",
      "metadata": {
        "colab": {
          "base_uri": "https://localhost:8080/",
          "height": 265
        },
        "id": "T_NflUhipjT-",
        "outputId": "e1ff1ae4-390f-403a-f400-e1025e201dec"
      },
      "source": [
        "y_resized = y.reshape(y.shape[0]*y.shape[1],1)\n",
        "plt.imshow(y_resized,cmap='gray', vmin = 0, vmax = 1,interpolation='none')\n",
        "plt.show()"
      ],
      "execution_count": 137,
      "outputs": [
        {
          "output_type": "display_data",
          "data": {
            "image/png": "[encoded data removed]",
            "text/plain": [
              "<Figure size 432x288 with 1 Axes>"
            ]
          },
          "metadata": {
            "tags": [],
            "needs_background": "light"
          }
        }
      ]
    },
    {
      "cell_type": "code",
      "metadata": {
        "colab": {
          "base_uri": "https://localhost:8080/"
        },
        "id": "FYBM9qCTulDT",
        "outputId": "796270c5-a893-4d4d-a2ba-848833822dbe"
      },
      "source": [
        "A"
      ],
      "execution_count": 138,
      "outputs": [
        {
          "output_type": "execute_result",
          "data": {
            "text/plain": [
              "array([[[ 0.2       ,  0.20614266,  0.21488617, ...,  0.2735444 ,\n",
              "          0.24882771,  0.18057364],\n",
              "        [ 0.2       ,  0.20614266,  0.21488617, ..., -0.37438422,\n",
              "         -0.34055593, -0.24714058],\n",
              "        [ 0.2       ,  0.20614266,  0.21488617, ...,  0.24864487,\n",
              "          0.22617802,  0.16413682],\n",
              "        [ 0.2       ,  0.20614266,  0.21488617, ..., -0.32554203,\n",
              "         -0.29612698, -0.2148986 ],\n",
              "        [ 0.2       ,  0.20614266,  0.21488617, ...,  0.17773699,\n",
              "          0.16167718,  0.11732872]],\n",
              "\n",
              "       [[ 0.2       ,  0.17057094,  0.17371166, ..., -0.23140237,\n",
              "         -0.2715757 , -0.24714058],\n",
              "        [ 0.2       ,  0.17057094,  0.17371166, ...,  0.3167069 ,\n",
              "          0.37168978,  0.33824686],\n",
              "        [ 0.2       ,  0.17057094,  0.17371166, ..., -0.21033884,\n",
              "         -0.24685537, -0.22464447],\n",
              "        [ 0.2       ,  0.17057094,  0.17371166, ...,  0.27538929,\n",
              "          0.3231991 ,  0.29411915],\n",
              "        [ 0.2       ,  0.17057094,  0.17371166, ..., -0.15035498,\n",
              "         -0.17645782, -0.16058096]],\n",
              "\n",
              "       [[ 0.2       ,  0.06522279,  0.05645657, ...,  0.10334665,\n",
              "          0.16960101,  0.16413682],\n",
              "        [ 0.2       ,  0.06522279,  0.05645657, ..., -0.14144452,\n",
              "         -0.23212298, -0.22464447],\n",
              "        [ 0.2       ,  0.06522279,  0.05645657, ...,  0.09393946,\n",
              "          0.15416298,  0.14919617],\n",
              "        [ 0.2       ,  0.06522279,  0.05645657, ..., -0.12299165,\n",
              "         -0.2018402 , -0.19533733],\n",
              "        [ 0.2       ,  0.06522279,  0.05645657, ...,  0.06715006,\n",
              "          0.1101992 ,  0.10664881]],\n",
              "\n",
              "       [[ 0.2       , -0.10585333, -0.11902807, ...,  0.05162614,\n",
              "         -0.12518384, -0.2148986 ],\n",
              "        [ 0.2       , -0.10585333, -0.11902807, ..., -0.07065768,\n",
              "          0.17133181,  0.29411915],\n",
              "        [ 0.2       , -0.10585333, -0.11902807, ...,  0.04692684,\n",
              "         -0.11378891, -0.19533733],\n",
              "        [ 0.2       , -0.10585333, -0.11902807, ..., -0.06143968,\n",
              "          0.14897985,  0.25574834],\n",
              "        [ 0.2       , -0.10585333, -0.11902807, ...,  0.03354437,\n",
              "         -0.0813389 , -0.13963156]],\n",
              "\n",
              "       [[ 0.2       , -0.33608305, -0.32602633, ..., -0.19711482,\n",
              "         -0.02166917,  0.11732872],\n",
              "        [ 0.2       , -0.33608305, -0.32602633, ...,  0.26977953,\n",
              "          0.02965733, -0.16058096],\n",
              "        [ 0.2       , -0.33608305, -0.32602633, ..., -0.17917233,\n",
              "         -0.01969672,  0.10664881],\n",
              "        [ 0.2       , -0.33608305, -0.32602633, ...,  0.23458407,\n",
              "          0.02578823, -0.13963156],\n",
              "        [ 0.2       , -0.33608305, -0.32602633, ..., -0.12807645,\n",
              "         -0.01407966,  0.07623499]]])"
            ]
          },
          "metadata": {
            "tags": []
          },
          "execution_count": 138
        }
      ]
    },
    {
      "cell_type": "code",
      "metadata": {
        "colab": {
          "base_uri": "https://localhost:8080/"
        },
        "id": "aY-4fK5CuXh9",
        "outputId": "e4ebdaed-6d2c-4f56-a2fd-4beac96820a1"
      },
      "source": [
        "A_resized = A.reshape(25,256)\n",
        "A_resized"
      ],
      "execution_count": 139,
      "outputs": [
        {
          "output_type": "execute_result",
          "data": {
            "text/plain": [
              "array([[ 0.2       ,  0.20614266,  0.21488617, ...,  0.2735444 ,\n",
              "         0.24882771,  0.18057364],\n",
              "       [ 0.2       ,  0.20614266,  0.21488617, ..., -0.37438422,\n",
              "        -0.34055593, -0.24714058],\n",
              "       [ 0.2       ,  0.20614266,  0.21488617, ...,  0.24864487,\n",
              "         0.22617802,  0.16413682],\n",
              "       ...,\n",
              "       [ 0.2       , -0.33608305, -0.32602633, ..., -0.17917233,\n",
              "        -0.01969672,  0.10664881],\n",
              "       [ 0.2       , -0.33608305, -0.32602633, ...,  0.23458407,\n",
              "         0.02578823, -0.13963156],\n",
              "       [ 0.2       , -0.33608305, -0.32602633, ..., -0.12807645,\n",
              "        -0.01407966,  0.07623499]])"
            ]
          },
          "metadata": {
            "tags": []
          },
          "execution_count": 139
        }
      ]
    },
    {
      "cell_type": "markdown",
      "metadata": {
        "id": "f4BZs3abpkMF"
      },
      "source": [
        "Compiling functions obtained in Task1 into a clean, bigger class"
      ]
    },
    {
      "cell_type": "code",
      "metadata": {
        "id": "kgLkcC_uuz-i"
      },
      "source": [
        "class obtain_sparse:\n",
        "  def __init__(self, A, y, iter = 20, threshold_val = 0.25):\n",
        "    self.A = A\n",
        "    self.y = y\n",
        "    self.R = y\n",
        "    self.norm_R = np.squeeze(np.linalg.norm(self.R))\n",
        "    # self.threshold_val = self.norm_R + 1\n",
        "    self.threshold_val = threshold_val\n",
        "    self.count_val = iter\n",
        "  \n",
        "    #Using Matching pursuit\n",
        "  def find_x_mp(self):\n",
        "    #A has shape (m,N)\n",
        "    #x has shape (N,1)\n",
        "    #y has shape (m,1)\n",
        "    N = self.A.shape[1]\n",
        "    m = self.A.shape[0]\n",
        "    #gi where i = 1 to N are the columns in A.T\n",
        "    #Normalizing the columns\n",
        "    # A_normed = (self.A -self.A.min(0)) / self.A.ptp(0)\n",
        "    #initialization\n",
        "    R = self.R\n",
        "    count = 1\n",
        "    count_val = self.count_val\n",
        "    norm_R = self.norm_R\n",
        "    threshold = self.threshold_val\n",
        "    i_list = []\n",
        "    a_list =[]\n",
        "    ai_list=[]\n",
        "    while(norm_R>threshold and count<count_val):\n",
        "      for i in range(m):\n",
        "        gi =self.A[:,i].reshape(m,1)\n",
        "        if(i==0):\n",
        "          max = abs(np.dot(self.A[:,0].T, R))\n",
        "          i_max =0\n",
        "        inner_product = np.squeeze(abs(np.dot(gi.T, R)))\n",
        "        # print(inner_product)\n",
        "        if(inner_product>max):\n",
        "          max = inner_product\n",
        "          i_max = i\n",
        "      \n",
        "      gn = self.A[:,i_max].reshape(m,1)\n",
        "      an = np.dot(gn.T, R)\n",
        "      R= R - an*gn\n",
        "      norm_R = np.squeeze(np.linalg.norm(R))\n",
        "      count=count+1\n",
        "      a_list.append(an)\n",
        "      i_list.append(i_max)\n",
        "      ai_list.append((an,i_max))\n",
        "\n",
        "    return a_list, i_list, ai_list\n",
        "\n",
        "  def construct_x(self, ai_list,N):\n",
        "    x = np.zeros((N,1))\n",
        "    for tuple_ai in ai_list:\n",
        "      x[tuple_ai[1]] += np.squeeze(tuple_ai[0])\n",
        "    self.x = x\n",
        "    return x\n",
        "  \n",
        "  def get_y_pred(self):\n",
        "    self.y_pred = np.dot(self.A,self.x)\n",
        "    return self.y_pred\n",
        "\n",
        "  def calc_error(self):\n",
        "    self.error = np.linalg.norm(self.y_pred-self.y)\n",
        "    return self.error"
      ],
      "execution_count": 140,
      "outputs": []
    },
    {
      "cell_type": "markdown",
      "metadata": {
        "id": "cGc7AvZv7wkB"
      },
      "source": [
        "\n",
        "For 5 iterations:"
      ]
    },
    {
      "cell_type": "code",
      "metadata": {
        "id": "0x0_oNx_yYDc"
      },
      "source": [
        "Obtain_sparse = obtain_sparse(A_resized,y_resized, 5, 0.25)\n",
        "a_list, i_list, ai_list = Obtain_sparse.find_x_mp()\n",
        "N = A_resized.shape[1]\n",
        "x = Obtain_sparse.construct_x(ai_list,N)\n",
        "y_pred = Obtain_sparse.get_y_pred()\n",
        "error = Obtain_sparse.calc_error()"
      ],
      "execution_count": 141,
      "outputs": []
    },
    {
      "cell_type": "markdown",
      "metadata": {
        "id": "UE7oDMmp8ZtH"
      },
      "source": [
        "error"
      ]
    },
    {
      "cell_type": "code",
      "metadata": {
        "colab": {
          "base_uri": "https://localhost:8080/"
        },
        "id": "MhsUrvWB0Cgv",
        "outputId": "30fb4b50-c6ea-404b-ea4d-100da9ee619a"
      },
      "source": [
        "error"
      ],
      "execution_count": 142,
      "outputs": [
        {
          "output_type": "execute_result",
          "data": {
            "text/plain": [
              "1.7926371004113848"
            ]
          },
          "metadata": {
            "tags": []
          },
          "execution_count": 142
        }
      ]
    },
    {
      "cell_type": "markdown",
      "metadata": {
        "id": "NVMkhzq48bSH"
      },
      "source": [
        "Predicted y for 5 iterations:"
      ]
    },
    {
      "cell_type": "code",
      "metadata": {
        "colab": {
          "base_uri": "https://localhost:8080/",
          "height": 265
        },
        "id": "Vv-b83fr0IUp",
        "outputId": "19c7d94c-86ee-49b3-b353-983e171ebe8a"
      },
      "source": [
        "y_pred_resize = y_pred.reshape(y.shape)\n",
        "plt.imshow(y_pred_resize,cmap='gray', vmin = 0, vmax = 1,interpolation='none')\n",
        "plt.show()"
      ],
      "execution_count": 143,
      "outputs": [
        {
          "output_type": "display_data",
          "data": {
            "image/png": "[encoded data removed]",
            "text/plain": [
              "<Figure size 432x288 with 1 Axes>"
            ]
          },
          "metadata": {
            "tags": [],
            "needs_background": "light"
          }
        }
      ]
    },
    {
      "cell_type": "markdown",
      "metadata": {
        "id": "tqPSyL2Y8QEo"
      },
      "source": [
        "For 20 iterations:"
      ]
    },
    {
      "cell_type": "code",
      "metadata": {
        "id": "nYRsZhIE0bJ4"
      },
      "source": [
        "Obtain_sparse = obtain_sparse(A_resized,y_resized, 20, 0.25)\n",
        "a_list, i_list, ai_list = Obtain_sparse.find_x_mp()\n",
        "N = A_resized.shape[1]\n",
        "x = Obtain_sparse.construct_x(ai_list,N)\n",
        "y_pred = Obtain_sparse.get_y_pred()\n",
        "error = Obtain_sparse.calc_error()"
      ],
      "execution_count": 144,
      "outputs": []
    },
    {
      "cell_type": "markdown",
      "metadata": {
        "id": "DgMick2w8XmH"
      },
      "source": [
        "error"
      ]
    },
    {
      "cell_type": "code",
      "metadata": {
        "colab": {
          "base_uri": "https://localhost:8080/"
        },
        "id": "mCSA9zsX9EP-",
        "outputId": "021efc3b-6c93-46a2-eeb4-28a1185c98a3"
      },
      "source": [
        "error"
      ],
      "execution_count": 145,
      "outputs": [
        {
          "output_type": "execute_result",
          "data": {
            "text/plain": [
              "1.7573145762393045"
            ]
          },
          "metadata": {
            "tags": []
          },
          "execution_count": 145
        }
      ]
    },
    {
      "cell_type": "markdown",
      "metadata": {
        "id": "53fBSBqB8gGf"
      },
      "source": [
        "Predicted y for 20 iterations:"
      ]
    },
    {
      "cell_type": "code",
      "metadata": {
        "colab": {
          "base_uri": "https://localhost:8080/",
          "height": 265
        },
        "id": "V52xULEl9GtV",
        "outputId": "cad12343-5242-491f-ed6e-4bf7e8d668dd"
      },
      "source": [
        "y_pred_resize = y_pred.reshape(y.shape)\n",
        "plt.imshow(y_pred_resize,cmap='gray', vmin = 0, vmax = 1,interpolation='none')\n",
        "plt.show()"
      ],
      "execution_count": 146,
      "outputs": [
        {
          "output_type": "display_data",
          "data": {
            "image/png": "[encoded data removed]",
            "text/plain": [
              "<Figure size 432x288 with 1 Axes>"
            ]
          },
          "metadata": {
            "tags": [],
            "needs_background": "light"
          }
        }
      ]
    },
    {
      "cell_type": "markdown",
      "metadata": {
        "id": "lZjKKEUT8hbW"
      },
      "source": [
        "**Observations:** <br>\n",
        " - Looks like mp algorithm is simple for this problem\n",
        " - On doing more than 20 iterations, y_pred doesn't have much improvement\n",
        " - Otherwise, there could be a problem with my code\n",
        " - One possible solution to try is normalizing"
      ]
    }
  ]
}