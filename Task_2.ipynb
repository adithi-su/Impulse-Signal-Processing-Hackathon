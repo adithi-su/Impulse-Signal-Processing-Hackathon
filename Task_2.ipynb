{
  "nbformat": 4,
  "nbformat_minor": 0,
  "metadata": {
    "colab": {
      "name": "Task_2.ipynb",
      "provenance": [],
      "collapsed_sections": []
    },
    "kernelspec": {
      "name": "python3",
      "display_name": "Python 3"
    }
  },
  "cells": [
    {
      "cell_type": "markdown",
      "metadata": {
        "id": "ez_7oX3NqXWO"
      },
      "source": [
        "#### Getting the Task 2 data file"
      ]
    },
    {
      "cell_type": "code",
      "metadata": {
        "id": "vV_YItJZTG3e"
      },
      "source": [
        "# Import PyDrive and associated libraries.\n",
        "# This only needs to be done once per notebook.\n",
        "from pydrive.auth import GoogleAuth\n",
        "from pydrive.drive import GoogleDrive\n",
        "from google.colab import auth\n",
        "from oauth2client.client import GoogleCredentials\n",
        "\n",
        "# Authenticate and create the PyDrive client.\n",
        "# This only needs to be done once per notebook.\n",
        "auth.authenticate_user()\n",
        "gauth = GoogleAuth()\n",
        "gauth.credentials = GoogleCredentials.get_application_default()\n",
        "drive = GoogleDrive(gauth)\n",
        "\n",
        "# Download a file based on its file ID.\n",
        "#https://drive.google.com/file/d/13hOJmMQvd8qEx1uZbQzC_14Uv98omW6z/view?usp=sharing\n",
        "# A file ID looks like: laggVyWshwcyP6kEI-y_W3P8D26sz\n",
        "file_id = '13hOJmMQvd8qEx1uZbQzC_14Uv98omW6z'\n",
        "downloaded = drive.CreateFile({'id': file_id})\n",
        "downloaded.GetContentFile('Task2.mat')  \n",
        "# print('Downloaded content \"{}\"'.format(downloaded.GetContentString()))"
      ],
      "execution_count": 111,
      "outputs": []
    },
    {
      "cell_type": "code",
      "metadata": {
        "id": "YWSx0eX3p57U"
      },
      "source": [
        "#Install this if haven't done already\n",
        "# !pip install numpy"
      ],
      "execution_count": 112,
      "outputs": []
    },
    {
      "cell_type": "code",
      "metadata": {
        "id": "mh0l1XrQoaPs"
      },
      "source": [
        "import numpy as np\n",
        "import scipy.io\n",
        "#Getting the file\n",
        "mat = scipy.io.loadmat('Task2.mat')"
      ],
      "execution_count": 113,
      "outputs": []
    },
    {
      "cell_type": "markdown",
      "metadata": {
        "id": "TMBfF6WarL-A"
      },
      "source": [
        "####Checking the shapes of the data matrices"
      ]
    },
    {
      "cell_type": "code",
      "metadata": {
        "colab": {
          "base_uri": "https://localhost:8080/"
        },
        "id": "F3cEbX9Wg9iE",
        "outputId": "ac2e8751-22de-4753-d308-cc11edbea811"
      },
      "source": [
        "mat['A'].shape"
      ],
      "execution_count": 114,
      "outputs": [
        {
          "output_type": "execute_result",
          "data": {
            "text/plain": [
              "(5, 5, 256)"
            ]
          },
          "metadata": {
            "tags": []
          },
          "execution_count": 114
        }
      ]
    },
    {
      "cell_type": "code",
      "metadata": {
        "colab": {
          "base_uri": "https://localhost:8080/"
        },
        "id": "nzQ5RveOrK9C",
        "outputId": "ec88d6ec-5182-4012-e5cc-1db704b37737"
      },
      "source": [
        "mat['Image'].shape"
      ],
      "execution_count": 115,
      "outputs": [
        {
          "output_type": "execute_result",
          "data": {
            "text/plain": [
              "(5, 5)"
            ]
          },
          "metadata": {
            "tags": []
          },
          "execution_count": 115
        }
      ]
    },
    {
      "cell_type": "code",
      "metadata": {
        "id": "NQP2MGSArzlg"
      },
      "source": [
        "A = mat['A']\n",
        "y = mat['Image']"
      ],
      "execution_count": 116,
      "outputs": []
    },
    {
      "cell_type": "markdown",
      "metadata": {
        "id": "8skANSZNtuLt"
      },
      "source": [
        "#### Checkig the data"
      ]
    },
    {
      "cell_type": "code",
      "metadata": {
        "colab": {
          "base_uri": "https://localhost:8080/",
          "height": 34
        },
        "id": "SgTanoQoq_Ao",
        "outputId": "a2a2b633-edb6-49b2-90f7-5b06b56fb54a"
      },
      "source": [
        "import cv2\n",
        "from google.colab.patches import cv2_imshow\n",
        "import matplotlib.pyplot as plt\n",
        "# img = cv2.imread(y)\n",
        "cv2_imshow(y)"
      ],
      "execution_count": 117,
      "outputs": [
        {
          "output_type": "display_data",
          "data": {
            "image/png": "[encoded data removed]",
            "text/plain": [
              "<PIL.Image.Image image mode=L size=5x5 at 0x7FF4AB8A28D0>"
            ]
          },
          "metadata": {
            "tags": []
          }
        }
      ]
    },
    {
      "cell_type": "code",
      "metadata": {
        "colab": {
          "base_uri": "https://localhost:8080/"
        },
        "id": "TZuh6zs7siQO",
        "outputId": "9905a260-acdf-492b-b9ca-8d2fd7ba2bbe"
      },
      "source": [
        "y"
      ],
      "execution_count": 118,
      "outputs": [
        {
          "output_type": "execute_result",
          "data": {
            "text/plain": [
              "array([[0, 0, 0, 0, 0],\n",
              "       [0, 1, 0, 1, 0],\n",
              "       [0, 0, 1, 0, 0],\n",
              "       [0, 1, 1, 1, 0],\n",
              "       [0, 0, 0, 0, 0]], dtype=uint8)"
            ]
          },
          "metadata": {
            "tags": []
          },
          "execution_count": 118
        }
      ]
    },
    {
      "cell_type": "code",
      "metadata": {
        "colab": {
          "base_uri": "https://localhost:8080/",
          "height": 265
        },
        "id": "GGf_RYacsIUI",
        "outputId": "b30bfd36-ca68-47f0-9e97-f975b1d74d9c"
      },
      "source": [
        "plt.imshow(y,interpolation='nearest')\n",
        "plt.show()"
      ],
      "execution_count": 119,
      "outputs": [
        {
          "output_type": "display_data",
          "data": {
            "image/png": "[encoded data removed]",
            "text/plain": [
              "<Figure size 432x288 with 1 Axes>"
            ]
          },
          "metadata": {
            "tags": [],
            "needs_background": "light"
          }
        }
      ]
    },
    {
      "cell_type": "code",
      "metadata": {
        "colab": {
          "base_uri": "https://localhost:8080/",
          "height": 265
        },
        "id": "Oc2v50Q4tB_V",
        "outputId": "ee9f3366-350f-40d5-ea64-506b6b899dc9"
      },
      "source": [
        "plt.imshow(y,cmap='gray', vmin = 0, vmax = 1,interpolation='none')\n",
        "plt.show()"
      ],
      "execution_count": 120,
      "outputs": [
        {
          "output_type": "display_data",
          "data": {
            "image/png": "[encoded data removed]",
            "text/plain": [
              "<Figure size 432x288 with 1 Axes>"
            ]
          },
          "metadata": {
            "tags": [],
            "needs_background": "light"
          }
        }
      ]
    },
    {
      "cell_type": "code",
      "metadata": {
        "colab": {
          "base_uri": "https://localhost:8080/",
          "height": 265
        },
        "id": "T_NflUhipjT-",
        "outputId": "a04fb6c8-4763-43f4-f610-1e89c05ef164"
      },
      "source": [
        "y_resized = y.reshape(y.shape[0]*y.shape[1],1)\n",
        "plt.imshow(y_resized,cmap='gray', vmin = 0, vmax = 1,interpolation='none')\n",
        "plt.show()"
      ],
      "execution_count": 121,
      "outputs": [
        {
          "output_type": "display_data",
          "data": {
            "image/png": "[encoded data removed]",
            "text/plain": [
              "<Figure size 432x288 with 1 Axes>"
            ]
          },
          "metadata": {
            "tags": [],
            "needs_background": "light"
          }
        }
      ]
    },
    {
      "cell_type": "code",
      "metadata": {
        "colab": {
          "base_uri": "https://localhost:8080/"
        },
        "id": "FYBM9qCTulDT",
        "outputId": "55827b3f-b295-47bf-b35f-bc430667e12c"
      },
      "source": [
        "A"
      ],
      "execution_count": 122,
      "outputs": [
        {
          "output_type": "execute_result",
          "data": {
            "text/plain": [
              "array([[[ 0.2       ,  0.20614266,  0.21488617, ...,  0.2735444 ,\n",
              "          0.24882771,  0.18057364],\n",
              "        [ 0.2       ,  0.20614266,  0.21488617, ..., -0.37438422,\n",
              "         -0.34055593, -0.24714058],\n",
              "        [ 0.2       ,  0.20614266,  0.21488617, ...,  0.24864487,\n",
              "          0.22617802,  0.16413682],\n",
              "        [ 0.2       ,  0.20614266,  0.21488617, ..., -0.32554203,\n",
              "         -0.29612698, -0.2148986 ],\n",
              "        [ 0.2       ,  0.20614266,  0.21488617, ...,  0.17773699,\n",
              "          0.16167718,  0.11732872]],\n",
              "\n",
              "       [[ 0.2       ,  0.17057094,  0.17371166, ..., -0.23140237,\n",
              "         -0.2715757 , -0.24714058],\n",
              "        [ 0.2       ,  0.17057094,  0.17371166, ...,  0.3167069 ,\n",
              "          0.37168978,  0.33824686],\n",
              "        [ 0.2       ,  0.17057094,  0.17371166, ..., -0.21033884,\n",
              "         -0.24685537, -0.22464447],\n",
              "        [ 0.2       ,  0.17057094,  0.17371166, ...,  0.27538929,\n",
              "          0.3231991 ,  0.29411915],\n",
              "        [ 0.2       ,  0.17057094,  0.17371166, ..., -0.15035498,\n",
              "         -0.17645782, -0.16058096]],\n",
              "\n",
              "       [[ 0.2       ,  0.06522279,  0.05645657, ...,  0.10334665,\n",
              "          0.16960101,  0.16413682],\n",
              "        [ 0.2       ,  0.06522279,  0.05645657, ..., -0.14144452,\n",
              "         -0.23212298, -0.22464447],\n",
              "        [ 0.2       ,  0.06522279,  0.05645657, ...,  0.09393946,\n",
              "          0.15416298,  0.14919617],\n",
              "        [ 0.2       ,  0.06522279,  0.05645657, ..., -0.12299165,\n",
              "         -0.2018402 , -0.19533733],\n",
              "        [ 0.2       ,  0.06522279,  0.05645657, ...,  0.06715006,\n",
              "          0.1101992 ,  0.10664881]],\n",
              "\n",
              "       [[ 0.2       , -0.10585333, -0.11902807, ...,  0.05162614,\n",
              "         -0.12518384, -0.2148986 ],\n",
              "        [ 0.2       , -0.10585333, -0.11902807, ..., -0.07065768,\n",
              "          0.17133181,  0.29411915],\n",
              "        [ 0.2       , -0.10585333, -0.11902807, ...,  0.04692684,\n",
              "         -0.11378891, -0.19533733],\n",
              "        [ 0.2       , -0.10585333, -0.11902807, ..., -0.06143968,\n",
              "          0.14897985,  0.25574834],\n",
              "        [ 0.2       , -0.10585333, -0.11902807, ...,  0.03354437,\n",
              "         -0.0813389 , -0.13963156]],\n",
              "\n",
              "       [[ 0.2       , -0.33608305, -0.32602633, ..., -0.19711482,\n",
              "         -0.02166917,  0.11732872],\n",
              "        [ 0.2       , -0.33608305, -0.32602633, ...,  0.26977953,\n",
              "          0.02965733, -0.16058096],\n",
              "        [ 0.2       , -0.33608305, -0.32602633, ..., -0.17917233,\n",
              "         -0.01969672,  0.10664881],\n",
              "        [ 0.2       , -0.33608305, -0.32602633, ...,  0.23458407,\n",
              "          0.02578823, -0.13963156],\n",
              "        [ 0.2       , -0.33608305, -0.32602633, ..., -0.12807645,\n",
              "         -0.01407966,  0.07623499]]])"
            ]
          },
          "metadata": {
            "tags": []
          },
          "execution_count": 122
        }
      ]
    },
    {
      "cell_type": "code",
      "metadata": {
        "colab": {
          "base_uri": "https://localhost:8080/"
        },
        "id": "aY-4fK5CuXh9",
        "outputId": "0f2a2bf0-4f81-45ff-a466-b7b7bb2fe97a"
      },
      "source": [
        "A_resized = A.reshape(25,256)\n",
        "A_resized"
      ],
      "execution_count": 123,
      "outputs": [
        {
          "output_type": "execute_result",
          "data": {
            "text/plain": [
              "array([[ 0.2       ,  0.20614266,  0.21488617, ...,  0.2735444 ,\n",
              "         0.24882771,  0.18057364],\n",
              "       [ 0.2       ,  0.20614266,  0.21488617, ..., -0.37438422,\n",
              "        -0.34055593, -0.24714058],\n",
              "       [ 0.2       ,  0.20614266,  0.21488617, ...,  0.24864487,\n",
              "         0.22617802,  0.16413682],\n",
              "       ...,\n",
              "       [ 0.2       , -0.33608305, -0.32602633, ..., -0.17917233,\n",
              "        -0.01969672,  0.10664881],\n",
              "       [ 0.2       , -0.33608305, -0.32602633, ...,  0.23458407,\n",
              "         0.02578823, -0.13963156],\n",
              "       [ 0.2       , -0.33608305, -0.32602633, ..., -0.12807645,\n",
              "        -0.01407966,  0.07623499]])"
            ]
          },
          "metadata": {
            "tags": []
          },
          "execution_count": 123
        }
      ]
    },
    {
      "cell_type": "markdown",
      "metadata": {
        "id": "f4BZs3abpkMF"
      },
      "source": [
        "### Compiling functions obtained in Task1 into a clean, bigger class"
      ]
    },
    {
      "cell_type": "code",
      "metadata": {
        "id": "kgLkcC_uuz-i"
      },
      "source": [
        "class obtain_sparse:\n",
        "  def __init__(self, A, y, iter = 20, threshold_val = 0.25):\n",
        "    self.A = A\n",
        "    self.y = y\n",
        "    self.R = y\n",
        "    # self.norm_R = np.squeeze(np.linalg.norm(self.R))\n",
        "    # self.threshold_val = self.norm_R + 1\n",
        "    self.threshold_val = threshold_val\n",
        "    self.count_val = iter\n",
        "  \n",
        "    #Using Matching pursuit\n",
        "  def find_x_mp(self):\n",
        "    #A has shape (m,N)\n",
        "    #x has shape (N,1)\n",
        "    #y has shape (m,1)\n",
        "    N = self.A.shape[1]\n",
        "    m = self.A.shape[0]\n",
        "    #gi where i = 1 to N are the columns in A.T\n",
        "    #Normalizing the columns\n",
        "    # A_normed = (self.A -self.A.min(0)) / self.A.ptp(0)\n",
        "    #initialization\n",
        "    R = self.R\n",
        "    F = np.zeros(self.y.shape)\n",
        "    count = 0\n",
        "    count_val = self.count_val\n",
        "    # norm_R = self.norm_R\n",
        "    norm_Fy = np.squeeze(np.linalg.norm(F-self.y))\n",
        "    threshold = self.threshold_val\n",
        "    i_list = []\n",
        "    a_list =[]\n",
        "    ai_list=[]\n",
        "    while(norm_Fy>threshold and count<count_val):\n",
        "      i_max = np.argmax(abs(np.dot(self.A.T, R)))  \n",
        "      gn = self.A[:,i_max].reshape(m,1)\n",
        "      an = np.dot(self.A.T, R)[i_max, 0]\n",
        "      R= R - an*gn\n",
        "      F= F + an*gn\n",
        "      # norm_R = np.squeeze(np.linalg.norm(R))\n",
        "      norm_Fy = np.squeeze(np.linalg.norm(F-self.y))\n",
        "      count=count+1\n",
        "      a_list.append(an)\n",
        "      i_list.append(i_max)\n",
        "      ai_list.append((an,i_max))\n",
        "\n",
        "    return a_list, i_list, ai_list\n",
        "\n",
        "  def construct_x(self, ai_list,N):\n",
        "    x = np.zeros((N,1))\n",
        "    for tuple_ai in ai_list:\n",
        "      x[tuple_ai[1]] += np.squeeze(tuple_ai[0])\n",
        "    self.x = x\n",
        "    return x\n",
        "  \n",
        "  def get_y_pred(self):\n",
        "    self.y_pred = np.dot(self.A,self.x)\n",
        "    return self.y_pred\n",
        "\n",
        "  def calc_error(self):\n",
        "    self.error = np.linalg.norm(self.y_pred-self.y)\n",
        "    return self.error"
      ],
      "execution_count": 124,
      "outputs": []
    },
    {
      "cell_type": "markdown",
      "metadata": {
        "id": "cGc7AvZv7wkB"
      },
      "source": [
        "\n",
        "#### For 5 iterations:"
      ]
    },
    {
      "cell_type": "code",
      "metadata": {
        "id": "0x0_oNx_yYDc"
      },
      "source": [
        "Obtain_sparse = obtain_sparse(A_resized,y_resized, 5, 0.25)\n",
        "a_list, i_list, ai_list = Obtain_sparse.find_x_mp()\n",
        "N = A_resized.shape[1]\n",
        "x = Obtain_sparse.construct_x(ai_list,N)\n",
        "y_pred = Obtain_sparse.get_y_pred()\n",
        "error = Obtain_sparse.calc_error()"
      ],
      "execution_count": 125,
      "outputs": []
    },
    {
      "cell_type": "markdown",
      "metadata": {
        "id": "UE7oDMmp8ZtH"
      },
      "source": [
        "error"
      ]
    },
    {
      "cell_type": "code",
      "metadata": {
        "colab": {
          "base_uri": "https://localhost:8080/"
        },
        "id": "MhsUrvWB0Cgv",
        "outputId": "e933f201-4801-442c-a37c-0d6b2e6f1a8c"
      },
      "source": [
        "error"
      ],
      "execution_count": 126,
      "outputs": [
        {
          "output_type": "execute_result",
          "data": {
            "text/plain": [
              "0.9628309703975242"
            ]
          },
          "metadata": {
            "tags": []
          },
          "execution_count": 126
        }
      ]
    },
    {
      "cell_type": "markdown",
      "metadata": {
        "id": "NVMkhzq48bSH"
      },
      "source": [
        "Predicted y for 5 iterations:"
      ]
    },
    {
      "cell_type": "code",
      "metadata": {
        "colab": {
          "base_uri": "https://localhost:8080/",
          "height": 265
        },
        "id": "Vv-b83fr0IUp",
        "outputId": "d447d22c-4bb6-4596-8fee-8799a4f394c0"
      },
      "source": [
        "y_pred_resize = y_pred.reshape(y.shape)\n",
        "plt.imshow(y_pred_resize,cmap='gray', vmin = 0, vmax = 1,interpolation='none')\n",
        "plt.show()"
      ],
      "execution_count": 127,
      "outputs": [
        {
          "output_type": "display_data",
          "data": {
            "image/png": "[encoded data removed]",
            "text/plain": [
              "<Figure size 432x288 with 1 Axes>"
            ]
          },
          "metadata": {
            "tags": [],
            "needs_background": "light"
          }
        }
      ]
    },
    {
      "cell_type": "markdown",
      "metadata": {
        "id": "IHUSOKqLTk0y"
      },
      "source": [
        "#### Getting the y predicted and errors for 1st 10 iterations<br>\n",
        "#### And plotting them with their respective errors on top"
      ]
    },
    {
      "cell_type": "code",
      "metadata": {
        "id": "S7FhQ2hDPz-3"
      },
      "source": [
        "y_pred_iter = {}\n",
        "error_iter = {}\n",
        "for itern in range(10):\n",
        "  Obtain_sparse = obtain_sparse(A_resized,y_resized, itern, 0.25)\n",
        "  a_list, i_list, ai_list = Obtain_sparse.find_x_mp()\n",
        "  N = A_resized.shape[1]\n",
        "  x = Obtain_sparse.construct_x(ai_list,N)\n",
        "  y_pred_iter[itern] = Obtain_sparse.get_y_pred()\n",
        "  error_iter[itern] = Obtain_sparse.calc_error()\n"
      ],
      "execution_count": 128,
      "outputs": []
    },
    {
      "cell_type": "code",
      "metadata": {
        "colab": {
          "base_uri": "https://localhost:8080/",
          "height": 356
        },
        "id": "hv2eQcLDSdNy",
        "outputId": "7add1378-cfc2-4265-ae22-23b9c950e12d"
      },
      "source": [
        "fig = plt.figure()\n",
        "fig.set_figheight(15)\n",
        "fig.set_figwidth(15)\n",
        "for itern in range(10):\n",
        "  ax = plt.subplot(5,5,itern+1)\n",
        "  ax.set_title(str(error_iter[itern]))\n",
        "  y_pred_resize = y_pred_iter[itern].reshape(y.shape)\n",
        "  plt.imshow(y_pred_resize,cmap='gray', vmin = 0, vmax = 1,interpolation='none')\n",
        "  plt.axis('off')\n",
        "# plt.show()\n",
        "  # ax = plt.subplot(\"211\")\n",
        "  # ax.set_title(\"Title for first plot\")\n",
        "  # ax.plot(data)"
      ],
      "execution_count": 129,
      "outputs": [
        {
          "output_type": "display_data",
          "data": {
            "image/png": "[encoded data removed]",
            "text/plain": [
              "<Figure size 1080x1080 with 10 Axes>"
            ]
          },
          "metadata": {
            "tags": [],
            "needs_background": "light"
          }
        }
      ]
    },
    {
      "cell_type": "markdown",
      "metadata": {
        "id": "tqPSyL2Y8QEo"
      },
      "source": [
        "#### For 50 iterations and low threshold:"
      ]
    },
    {
      "cell_type": "code",
      "metadata": {
        "id": "nYRsZhIE0bJ4"
      },
      "source": [
        "Obtain_sparse = obtain_sparse(A_resized,y_resized, 50, 0.00001)\n",
        "a_list, i_list, ai_list = Obtain_sparse.find_x_mp()\n",
        "N = A_resized.shape[1]\n",
        "x = Obtain_sparse.construct_x(ai_list,N)\n",
        "y_pred = Obtain_sparse.get_y_pred()\n",
        "error = Obtain_sparse.calc_error()"
      ],
      "execution_count": 130,
      "outputs": []
    },
    {
      "cell_type": "markdown",
      "metadata": {
        "id": "DgMick2w8XmH"
      },
      "source": [
        "error"
      ]
    },
    {
      "cell_type": "code",
      "metadata": {
        "colab": {
          "base_uri": "https://localhost:8080/"
        },
        "id": "mCSA9zsX9EP-",
        "outputId": "814818a7-1558-43fa-e9bc-2d1b93e428c1"
      },
      "source": [
        "error"
      ],
      "execution_count": 131,
      "outputs": [
        {
          "output_type": "execute_result",
          "data": {
            "text/plain": [
              "0.000421849021096877"
            ]
          },
          "metadata": {
            "tags": []
          },
          "execution_count": 131
        }
      ]
    },
    {
      "cell_type": "markdown",
      "metadata": {
        "id": "53fBSBqB8gGf"
      },
      "source": [
        "*Predicted* y for 50 iterations:"
      ]
    },
    {
      "cell_type": "code",
      "metadata": {
        "colab": {
          "base_uri": "https://localhost:8080/",
          "height": 265
        },
        "id": "V52xULEl9GtV",
        "outputId": "390b330f-ffd2-453e-afef-ee667239fb29"
      },
      "source": [
        "y_pred_resize = y_pred.reshape(y.shape)\n",
        "plt.imshow(y_pred_resize,cmap='gray', vmin = 0, vmax = 1,interpolation='none')\n",
        "plt.show()"
      ],
      "execution_count": 132,
      "outputs": [
        {
          "output_type": "display_data",
          "data": {
            "image/png": "[encoded data removed]",
            "text/plain": [
              "<Figure size 432x288 with 1 Axes>"
            ]
          },
          "metadata": {
            "tags": [],
            "needs_background": "light"
          }
        }
      ]
    },
    {
      "cell_type": "markdown",
      "metadata": {
        "id": "lZjKKEUT8hbW"
      },
      "source": [
        "#### **Observations:** <br>\n",
        "- Since this is a very simple figure, it can obtain the sparse vector in few iterations\n",
        "- Can use normalization later if needed\n",
        "- If we compare the y_predicted for 15 or more iterations and original y, we can see that the former is slightly blurry thn the latter"
      ]
    },
    {
      "cell_type": "code",
      "metadata": {
        "id": "Vb4_FmVfV7RO"
      },
      "source": [
        ""
      ],
      "execution_count": 132,
      "outputs": []
    }
  ]
}