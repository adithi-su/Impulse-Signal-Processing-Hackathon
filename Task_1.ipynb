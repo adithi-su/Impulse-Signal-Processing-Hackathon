{
  "nbformat": 4,
  "nbformat_minor": 0,
  "metadata": {
    "colab": {
      "name": "Task-1.ipynb ",
      "provenance": [],
      "collapsed_sections": []
    },
    "kernelspec": {
      "name": "python3",
      "display_name": "Python 3"
    }
  },
  "cells": [
    {
      "cell_type": "code",
      "metadata": {
        "id": "Mho-G1w5M5yV",
        "colab": {
          "base_uri": "https://localhost:8080/"
        },
        "outputId": "489795f1-76d9-4abf-df5b-6e8c44feb6c9"
      },
      "source": [
        "!pip install numpy\n",
        "!pip install matplotlib\n",
        "!pip install opencv-python\n",
        "!pip install scikit-image\n",
        "!pip install PyWavelets"
      ],
      "execution_count": null,
      "outputs": [
        {
          "output_type": "stream",
          "text": [
            "Requirement already satisfied: numpy in /usr/local/lib/python3.6/dist-packages (1.19.5)\n",
            "Requirement already satisfied: matplotlib in /usr/local/lib/python3.6/dist-packages (3.2.2)\n",
            "Requirement already satisfied: numpy>=1.11 in /usr/local/lib/python3.6/dist-packages (from matplotlib) (1.19.5)\n",
            "Requirement already satisfied: kiwisolver>=1.0.1 in /usr/local/lib/python3.6/dist-packages (from matplotlib) (1.3.1)\n",
            "Requirement already satisfied: cycler>=0.10 in /usr/local/lib/python3.6/dist-packages (from matplotlib) (0.10.0)\n",
            "Requirement already satisfied: pyparsing!=2.0.4,!=2.1.2,!=2.1.6,>=2.0.1 in /usr/local/lib/python3.6/dist-packages (from matplotlib) (2.4.7)\n",
            "Requirement already satisfied: python-dateutil>=2.1 in /usr/local/lib/python3.6/dist-packages (from matplotlib) (2.8.1)\n",
            "Requirement already satisfied: six in /usr/local/lib/python3.6/dist-packages (from cycler>=0.10->matplotlib) (1.15.0)\n",
            "Requirement already satisfied: opencv-python in /usr/local/lib/python3.6/dist-packages (4.1.2.30)\n",
            "Requirement already satisfied: numpy>=1.11.3 in /usr/local/lib/python3.6/dist-packages (from opencv-python) (1.19.5)\n"
          ],
          "name": "stdout"
        }
      ]
    },
    {
      "cell_type": "code",
      "metadata": {
        "id": "dornOaYug_gV"
      },
      "source": [
        "import numpy as np\n",
        "from scipy.sparse import csr_matrix, csc_matrix\n",
        "from scipy.sparse.linalg import spsolve\n",
        "from scipy.io import loadmat"
      ],
      "execution_count": null,
      "outputs": []
    },
    {
      "cell_type": "markdown",
      "metadata": {
        "id": "cUMjYYRz-EaY"
      },
      "source": [
        "scipy.sparse.linalg.spsolve(A, b, permc_spec=None, use_umfpack=True) <br>\n",
        "To solve the sparse linear system Ax=b, where b may be a vector or a matrix."
      ]
    },
    {
      "cell_type": "code",
      "metadata": {
        "colab": {
          "base_uri": "https://localhost:8080/"
        },
        "id": "bj7YnFrp-ISV",
        "outputId": "fe4fa0ed-04f7-49a9-ce26-2b057743b912"
      },
      "source": [
        "# Example \n",
        "A = csc_matrix([[3, 2, 0], [1, -1, 0], [0, 5, 1]], dtype=float)\n",
        "B = csc_matrix([[2, 0], [-1, 0], [2, 0]], dtype=float)\n",
        "x = spsolve(A, B)\n",
        "print(x)"
      ],
      "execution_count": null,
      "outputs": [
        {
          "output_type": "stream",
          "text": [
            "  (1, 0)\t1.0\n",
            "  (2, 0)\t-3.0\n"
          ],
          "name": "stdout"
        }
      ]
    },
    {
      "cell_type": "markdown",
      "metadata": {
        "id": "JI92zira-4Xh"
      },
      "source": [
        "For the system of equations Ax = y, sparse solution x with lowest possible error given the output vector y and the Matrix A is to be found"
      ]
    },
    {
      "cell_type": "code",
      "metadata": {
        "id": "0_biAcOXA3Jo"
      },
      "source": [
        "# def mimimizeError(A,y,m=0,epochs=1000,learning_rate=0.001):\n",
        "#   N = y.shape[0]\n",
        "#   for i in range(epochs):\n",
        "#     y_current = spsolve(A,y)\n",
        "#     cost = np.sum([data**2 for data in (y-y_current)]) / N\n",
        "#     m_gradient = -(2/N) * np.sum(A * (y - y_current))\n",
        "#     m_current = m_current - (learning_rate * m_gradient)\n",
        "#   return m_current, cost"
      ],
      "execution_count": null,
      "outputs": []
    },
    {
      "cell_type": "code",
      "metadata": {
        "id": "I-I0VoReCeqi"
      },
      "source": [
        "# y = csc_matrix([[1.65],[-0.25]])\n",
        "# A = csc_matrix([[-0.707,0.8,0],[0.707,0.6,-1]])\n",
        "# X, cost = mimimizeError(A,y)"
      ],
      "execution_count": null,
      "outputs": []
    },
    {
      "cell_type": "code",
      "metadata": {
        "id": "fvMltX-qYrsq"
      },
      "source": [
        "# A = csc_matrix([[3, 2, 0], [1, -1, 0], [0, 5, 1]], dtype=float)\n",
        "# B = csc_matrix([[2, 0], [-1, 0], [2, 0]], dtype=float)\n",
        "# X, cost = mimimizeError(A,y)"
      ],
      "execution_count": null,
      "outputs": []
    },
    {
      "cell_type": "code",
      "metadata": {
        "id": "IpCL6gS3HuXE"
      },
      "source": [
        "# from scipy.io import loadmat\n",
        "# annots = loadmat('Task1.mat')\n",
        "# annots.keys()"
      ],
      "execution_count": null,
      "outputs": []
    },
    {
      "cell_type": "markdown",
      "metadata": {
        "id": "DTApBr_iVOia"
      },
      "source": [
        "We couldn't apply the above method as the matrix A isnt a sq matrix. So trying other approaches:"
      ]
    },
    {
      "cell_type": "markdown",
      "metadata": {
        "id": "Ofp6yRpoR6IW"
      },
      "source": [
        "We can try to find the sparse matrix x using greedy method:"
      ]
    },
    {
      "cell_type": "code",
      "metadata": {
        "id": "KqszQ6N4Tdbh"
      },
      "source": [
        "#Ax = y"
      ],
      "execution_count": null,
      "outputs": []
    },
    {
      "cell_type": "code",
      "metadata": {
        "id": "L3x_pzF7UE7q"
      },
      "source": [
        "y = np.array([[1.65],\n",
        "     [-0.25]])\n",
        "A = np.array([[-0.707,0.8,0],\n",
        "     [0.707,0.6,-1]])"
      ],
      "execution_count": null,
      "outputs": []
    },
    {
      "cell_type": "code",
      "metadata": {
        "colab": {
          "base_uri": "https://localhost:8080/"
        },
        "id": "5FaJU3V3UMPI",
        "outputId": "3ef7dc51-18d7-4f97-b237-ddd65e023884"
      },
      "source": [
        "A.shape"
      ],
      "execution_count": null,
      "outputs": [
        {
          "output_type": "execute_result",
          "data": {
            "text/plain": [
              "(2, 3)"
            ]
          },
          "metadata": {
            "tags": []
          },
          "execution_count": 35
        }
      ]
    },
    {
      "cell_type": "code",
      "metadata": {
        "id": "YXcmVuy0JkXr"
      },
      "source": [
        "#Assume an x with random numbers  and is sparse\n",
        "#For Task 1.1, x has to be 3 x 1 dimension\n",
        "x = np.array([[1],[0],[1]])\n"
      ],
      "execution_count": null,
      "outputs": []
    },
    {
      "cell_type": "code",
      "metadata": {
        "id": "MdMtaA5YTcIk"
      },
      "source": [
        "\n",
        "#Find number of smallest number of non zero coefficients or support\n",
        "#But solving by L1 norm is more practical\n",
        "x_ = np.linalg.norm(x,1)"
      ],
      "execution_count": null,
      "outputs": []
    },
    {
      "cell_type": "code",
      "metadata": {
        "id": "V77kRcQ4whtK"
      },
      "source": [
        "e=100\n",
        "l=1\n",
        "l2norm=0\n",
        "min_err = 10000\n",
        "min_err_1st_i=0"
      ],
      "execution_count": null,
      "outputs": []
    },
    {
      "cell_type": "code",
      "metadata": {
        "id": "7BB2Q94luV9l"
      },
      "source": [
        "for i in range(100) or abs(e)<0.1:\n",
        "    e = np.linalg.norm(np.dot(A,x)-y)\n",
        "    "
      ],
      "execution_count": null,
      "outputs": []
    },
    {
      "cell_type": "code",
      "metadata": {
        "id": "c_GlXFy2Zzlk"
      },
      "source": [
        "#Trying the greedy way\n",
        "#Step 1\n",
        "def find_1st_best_atom(A,y,x=x ):\n",
        "  n = A.shape[1]\n",
        "  l2norm=0\n",
        "  min_err = 10000\n",
        "  for i in range(n):\n",
        "    l2norm = np.linalg.norm(np.dot(A[:,i].reshape((2,1)),x[i,:].reshape((1,1)))-y,2)\n",
        "    if(l2norm<min_err):\n",
        "      min_err= l2norm\n",
        "      min_err_1st_i= i\n",
        "    \n",
        "  return i,min_err\n",
        "\n"
      ],
      "execution_count": null,
      "outputs": []
    },
    {
      "cell_type": "code",
      "metadata": {
        "id": "zN1sIyuEGU1a"
      },
      "source": [
        "#i,min_err = find_1st_best_atom(A,y)"
      ],
      "execution_count": null,
      "outputs": []
    },
    {
      "cell_type": "code",
      "metadata": {
        "id": "Aaa7MyDCK5Xc"
      },
      "source": [
        "#we must keep track of the best atom indices \n",
        "known_best_atoms_i = []"
      ],
      "execution_count": null,
      "outputs": []
    },
    {
      "cell_type": "code",
      "metadata": {
        "id": "CxK6uXtLJEsK"
      },
      "source": [
        "#Step 2\n",
        "#find other atoms that will minimise the error \n",
        "def find_other_atoms(A,y,min_err,x=x ):\n",
        "  n = A.shape[1]\n",
        "  min_err_other_i = -1\n",
        "  for i in range(n):\n",
        "    if(i not in known_best_atoms_i):\n",
        "      l2norm = np.linalg.norm(np.dot(A[:,i].reshape((2,1)),x[i,:].reshape((1,1)))-y,2)\n",
        "      if(l2norm+min_err<min_err):\n",
        "        min_err = l2norm + min_err\n",
        "        min_err_other_i= i\n",
        "    \n",
        "  return min_err_other_i,min_err"
      ],
      "execution_count": null,
      "outputs": []
    },
    {
      "cell_type": "code",
      "metadata": {
        "colab": {
          "base_uri": "https://localhost:8080/"
        },
        "id": "R-pWhZyVJTgn",
        "outputId": "e714ded6-4a2a-4404-9b99-2ab2a4a07503"
      },
      "source": [
        "#Limit of max number of non zero values in x\n",
        "S_max = 2\n",
        "i1,min_err = find_1st_best_atom(A,y)\n",
        "known_best_atoms_i.append(i1)\n",
        "print(known_best_atoms_i)\n",
        "for j in range(S_max-1):\n",
        "  i_other,min_err = find_other_atoms(A,y,min_err)\n",
        "  if(i_other!=-1):\n",
        "    known_best_atoms_i.append(i_other)\n",
        "  print(known_best_atoms_i)"
      ],
      "execution_count": null,
      "outputs": [
        {
          "output_type": "stream",
          "text": [
            "[2]\n",
            "[2]\n"
          ],
          "name": "stdout"
        }
      ]
    },
    {
      "cell_type": "code",
      "metadata": {
        "id": "sxuuw9xXNKsB"
      },
      "source": [
        "#Make other elements in x whose row numbers are not in \n",
        "#known_best_atoms as 0 \n",
        "def make_sparse_x(x,nonzero_inices = known_best_atoms_i):\n",
        "  x_rows = x.shape[0]\n",
        "  for i in range(x_rows):\n",
        "    if(i not in nonzero_inices):\n",
        "      x[i,0]=0\n",
        "  return x"
      ],
      "execution_count": null,
      "outputs": []
    },
    {
      "cell_type": "code",
      "metadata": {
        "colab": {
          "base_uri": "https://localhost:8080/"
        },
        "id": "lS-CiQZ0PH8J",
        "outputId": "dfdbf6e7-0909-4968-b519-ab0fddffffb9"
      },
      "source": [
        "sparse = make_sparse_x(x)\n",
        "sparse\n"
      ],
      "execution_count": null,
      "outputs": [
        {
          "output_type": "execute_result",
          "data": {
            "text/plain": [
              "array([[0],\n",
              "       [0],\n",
              "       [1]])"
            ]
          },
          "metadata": {
            "tags": []
          },
          "execution_count": 116
        }
      ]
    },
    {
      "cell_type": "code",
      "metadata": {
        "colab": {
          "base_uri": "https://localhost:8080/"
        },
        "id": "J9rFZJFRQLJA",
        "outputId": "dd574239-10ed-4f02-a493-7a8a0073e1db"
      },
      "source": [
        "np.dot(A,x)"
      ],
      "execution_count": null,
      "outputs": [
        {
          "output_type": "execute_result",
          "data": {
            "text/plain": [
              "array([[ 0.],\n",
              "       [-1.]])"
            ]
          },
          "metadata": {
            "tags": []
          },
          "execution_count": 117
        }
      ]
    },
    {
      "cell_type": "code",
      "metadata": {
        "id": "D-yLFNzZQiK-"
      },
      "source": [
        "#1.2:\n",
        "#First let's get"
      ],
      "execution_count": null,
      "outputs": []
    },
    {
      "cell_type": "code",
      "metadata": {
        "colab": {
          "base_uri": "https://localhost:8080/"
        },
        "id": "_UgdF2QFYDFt",
        "outputId": "04c21c58-80df-4275-a0c0-50983a5dd868"
      },
      "source": [
        "!pip install PyDrive\n"
      ],
      "execution_count": null,
      "outputs": [
        {
          "output_type": "stream",
          "text": [
            "Requirement already satisfied: PyDrive in /usr/local/lib/python3.6/dist-packages (1.3.1)\n",
            "Requirement already satisfied: google-api-python-client>=1.2 in /usr/local/lib/python3.6/dist-packages (from PyDrive) (1.7.12)\n",
            "Requirement already satisfied: oauth2client>=4.0.0 in /usr/local/lib/python3.6/dist-packages (from PyDrive) (4.1.3)\n",
            "Requirement already satisfied: PyYAML>=3.0 in /usr/local/lib/python3.6/dist-packages (from PyDrive) (3.13)\n",
            "Requirement already satisfied: httplib2<1dev,>=0.17.0 in /usr/local/lib/python3.6/dist-packages (from google-api-python-client>=1.2->PyDrive) (0.17.4)\n",
            "Requirement already satisfied: six<2dev,>=1.6.1 in /usr/local/lib/python3.6/dist-packages (from google-api-python-client>=1.2->PyDrive) (1.15.0)\n",
            "Requirement already satisfied: google-auth>=1.4.1 in /usr/local/lib/python3.6/dist-packages (from google-api-python-client>=1.2->PyDrive) (1.17.2)\n",
            "Requirement already satisfied: uritemplate<4dev,>=3.0.0 in /usr/local/lib/python3.6/dist-packages (from google-api-python-client>=1.2->PyDrive) (3.0.1)\n",
            "Requirement already satisfied: google-auth-httplib2>=0.0.3 in /usr/local/lib/python3.6/dist-packages (from google-api-python-client>=1.2->PyDrive) (0.0.4)\n",
            "Requirement already satisfied: pyasn1>=0.1.7 in /usr/local/lib/python3.6/dist-packages (from oauth2client>=4.0.0->PyDrive) (0.4.8)\n",
            "Requirement already satisfied: rsa>=3.1.4 in /usr/local/lib/python3.6/dist-packages (from oauth2client>=4.0.0->PyDrive) (4.6)\n",
            "Requirement already satisfied: pyasn1-modules>=0.0.5 in /usr/local/lib/python3.6/dist-packages (from oauth2client>=4.0.0->PyDrive) (0.2.8)\n",
            "Requirement already satisfied: cachetools<5.0,>=2.0.0 in /usr/local/lib/python3.6/dist-packages (from google-auth>=1.4.1->google-api-python-client>=1.2->PyDrive) (4.2.0)\n",
            "Requirement already satisfied: setuptools>=40.3.0 in /usr/local/lib/python3.6/dist-packages (from google-auth>=1.4.1->google-api-python-client>=1.2->PyDrive) (51.3.3)\n"
          ],
          "name": "stdout"
        }
      ]
    },
    {
      "cell_type": "code",
      "metadata": {
        "id": "YIjBZPk2VeEP"
      },
      "source": [
        "# Import PyDrive and associated libraries.\n",
        "# This only needs to be done once per notebook.\n",
        "from pydrive.auth import GoogleAuth\n",
        "from pydrive.drive import GoogleDrive\n",
        "from google.colab import auth\n",
        "from oauth2client.client import GoogleCredentials\n",
        "\n",
        "# Authenticate and create the PyDrive client.\n",
        "# This only needs to be done once per notebook.\n",
        "auth.authenticate_user()\n",
        "gauth = GoogleAuth()\n",
        "gauth.credentials = GoogleCredentials.get_application_default()\n",
        "drive = GoogleDrive(gauth)\n",
        "\n",
        "# Download a file based on its file ID.\n",
        "#https://drive.google.com/file/d/1ondpZi7Rbu_QAkuu6wvGNEYPERnkIEOZ/view?usp=sharing\n",
        "# A file ID looks like: laggVyWshwcyP6kEI-y_W3P8D26sz\n",
        "file_id = '1ondpZi7Rbu_QAkuu6wvGNEYPERnkIEOZ'\n",
        "downloaded = drive.CreateFile({'id': file_id})\n",
        "downloaded.GetContentFile('Task1.mat')  \n",
        "# print('Downloaded content \"{}\"'.format(downloaded.GetContentString()))"
      ],
      "execution_count": null,
      "outputs": []
    },
    {
      "cell_type": "code",
      "metadata": {
        "id": "S4a1s8hkVf0V"
      },
      "source": [
        "import scipy.io\n",
        "mat = scipy.io.loadmat('Task1.mat')"
      ],
      "execution_count": null,
      "outputs": []
    },
    {
      "cell_type": "code",
      "metadata": {
        "id": "RS57TkwhY3LN"
      },
      "source": [
        "# mat.items()"
      ],
      "execution_count": null,
      "outputs": []
    },
    {
      "cell_type": "code",
      "metadata": {
        "colab": {
          "base_uri": "https://localhost:8080/"
        },
        "id": "mAES7yF0Y-5F",
        "outputId": "489bb6de-97cb-4d14-f979-628b4f632be0"
      },
      "source": [
        "mat['A'].shape"
      ],
      "execution_count": null,
      "outputs": [
        {
          "output_type": "execute_result",
          "data": {
            "text/plain": [
              "(32, 64)"
            ]
          },
          "metadata": {
            "tags": []
          },
          "execution_count": 139
        }
      ]
    },
    {
      "cell_type": "code",
      "metadata": {
        "colab": {
          "base_uri": "https://localhost:8080/"
        },
        "id": "FxwWTIywZN-N",
        "outputId": "755ed445-3bd1-4862-87a6-5a743ef6b9c2"
      },
      "source": [
        "mat['y'].shape"
      ],
      "execution_count": null,
      "outputs": [
        {
          "output_type": "execute_result",
          "data": {
            "text/plain": [
              "(32, 1)"
            ]
          },
          "metadata": {
            "tags": []
          },
          "execution_count": 140
        }
      ]
    },
    {
      "cell_type": "code",
      "metadata": {
        "id": "NpfyV4viZags"
      },
      "source": [
        "#x is of dimension (64,1)\n",
        "x= np.random.randn(64,1)"
      ],
      "execution_count": null,
      "outputs": []
    },
    {
      "cell_type": "code",
      "metadata": {
        "id": "YDCHxFGeb1YQ"
      },
      "source": [
        "A = mat['A']\n",
        "y = mat['y']"
      ],
      "execution_count": null,
      "outputs": []
    },
    {
      "cell_type": "code",
      "metadata": {
        "colab": {
          "base_uri": "https://localhost:8080/"
        },
        "id": "q5lFTJLiauSR",
        "outputId": "70929ad5-553c-4bd5-fd46-acb7e61fc898"
      },
      "source": [
        "#All the functions together for this q\n",
        "A_i = A.shape[0]\n",
        "A_j = A.shape[1]\n",
        "x_i = x.shape[0]\n",
        "x_j = 1\n",
        "\n",
        "#Step 1\n",
        "def find_1st_best_atom(A,y,x=x ):\n",
        "  n = A.shape[1]\n",
        "  l2norm=0\n",
        "  min_err = 10000\n",
        "  for i in range(n):\n",
        "    l2norm = np.linalg.norm(np.dot(A[:,i].reshape((A_i,1)),x[i,:].reshape((1,x_j)))-y,2)\n",
        "    if(l2norm<min_err):\n",
        "      min_err= l2norm\n",
        "      min_err_1st_i= i\n",
        "    \n",
        "  return i,min_err\n",
        "\n",
        "#we must keep track of the best atom indices \n",
        "known_best_atoms_i = []\n",
        "\n",
        "#Step 2\n",
        "#find other atoms that will minimise the error \n",
        "def find_other_atoms(A,y,min_err,x=x ):\n",
        "  n = A.shape[1]\n",
        "  min_err_other_i = -1\n",
        "  for i in range(n):\n",
        "    if(i not in known_best_atoms_i):\n",
        "      l2norm = np.linalg.norm(np.dot(A[:,i].reshape((A_i,1)),x[i,:].reshape((1,x_j)))-y,2)\n",
        "      if(l2norm+min_err<min_err):\n",
        "        min_err = l2norm + min_err\n",
        "        min_err_other_i= i\n",
        "    \n",
        "  return min_err_other_i,min_err\n",
        "\n",
        "#Limit of max number of non zero values in x\n",
        "S_max = 2\n",
        "i1,min_err = find_1st_best_atom(A,y)\n",
        "known_best_atoms_i.append(i1)\n",
        "print(known_best_atoms_i)\n",
        "for j in range(S_max-1):\n",
        "  i_other,min_err = find_other_atoms(A,y,min_err)\n",
        "  if(i_other!=-1):\n",
        "    known_best_atoms_i.append(i_other)\n",
        "  print(known_best_atoms_i)\n",
        "\n",
        "#Make other elements in x whose row numbers are not in \n",
        "#known_best_atoms as 0 \n",
        "def make_sparse_x(x,nonzero_inices = known_best_atoms_i):\n",
        "  x_rows = x.shape[0]\n",
        "  for i in range(x_rows):\n",
        "    if(i not in nonzero_inices):\n",
        "      x[i,0]=0\n",
        "  return x"
      ],
      "execution_count": null,
      "outputs": [
        {
          "output_type": "stream",
          "text": [
            "[63]\n",
            "[63]\n"
          ],
          "name": "stdout"
        }
      ]
    },
    {
      "cell_type": "code",
      "metadata": {
        "colab": {
          "base_uri": "https://localhost:8080/"
        },
        "id": "tdkFk3b3aRUb",
        "outputId": "5daf51bf-e1a7-4284-c9b8-421cc1ea4f9a"
      },
      "source": [
        "sparse = make_sparse_x(x)\n",
        "sparse"
      ],
      "execution_count": null,
      "outputs": [
        {
          "output_type": "execute_result",
          "data": {
            "text/plain": [
              "array([[ 0.        ],\n",
              "       [ 0.        ],\n",
              "       [ 0.        ],\n",
              "       [ 0.        ],\n",
              "       [ 0.        ],\n",
              "       [ 0.        ],\n",
              "       [ 0.        ],\n",
              "       [ 0.        ],\n",
              "       [ 0.        ],\n",
              "       [ 0.        ],\n",
              "       [ 0.        ],\n",
              "       [ 0.        ],\n",
              "       [ 0.        ],\n",
              "       [ 0.        ],\n",
              "       [ 0.        ],\n",
              "       [ 0.        ],\n",
              "       [ 0.        ],\n",
              "       [ 0.        ],\n",
              "       [ 0.        ],\n",
              "       [ 0.        ],\n",
              "       [ 0.        ],\n",
              "       [ 0.        ],\n",
              "       [ 0.        ],\n",
              "       [ 0.        ],\n",
              "       [ 0.        ],\n",
              "       [ 0.        ],\n",
              "       [ 0.        ],\n",
              "       [ 0.        ],\n",
              "       [ 0.        ],\n",
              "       [ 0.        ],\n",
              "       [ 0.        ],\n",
              "       [ 0.        ],\n",
              "       [ 0.        ],\n",
              "       [ 0.        ],\n",
              "       [ 0.        ],\n",
              "       [ 0.        ],\n",
              "       [ 0.        ],\n",
              "       [ 0.        ],\n",
              "       [ 0.        ],\n",
              "       [ 0.        ],\n",
              "       [ 0.        ],\n",
              "       [ 0.        ],\n",
              "       [ 0.        ],\n",
              "       [ 0.        ],\n",
              "       [ 0.        ],\n",
              "       [ 0.        ],\n",
              "       [ 0.        ],\n",
              "       [ 0.        ],\n",
              "       [ 0.        ],\n",
              "       [ 0.        ],\n",
              "       [ 0.        ],\n",
              "       [ 0.        ],\n",
              "       [ 0.        ],\n",
              "       [ 0.        ],\n",
              "       [ 0.        ],\n",
              "       [ 0.        ],\n",
              "       [ 0.        ],\n",
              "       [ 0.        ],\n",
              "       [ 0.        ],\n",
              "       [ 0.        ],\n",
              "       [ 0.        ],\n",
              "       [ 0.        ],\n",
              "       [ 0.        ],\n",
              "       [-0.04206893]])"
            ]
          },
          "metadata": {
            "tags": []
          },
          "execution_count": 146
        }
      ]
    },
    {
      "cell_type": "code",
      "metadata": {
        "colab": {
          "base_uri": "https://localhost:8080/"
        },
        "id": "yWV-bpYzcT1-",
        "outputId": "63f0fec4-809e-4ed8-9b42-e601d0cc7e88"
      },
      "source": [
        "np.linalg.norm(np.dot(A,x)-y,2)"
      ],
      "execution_count": null,
      "outputs": [
        {
          "output_type": "execute_result",
          "data": {
            "text/plain": [
              "2.4736118726506158"
            ]
          },
          "metadata": {
            "tags": []
          },
          "execution_count": 150
        }
      ]
    },
    {
      "cell_type": "code",
      "metadata": {
        "id": "B6-0dqXvfsoo"
      },
      "source": [
        ""
      ],
      "execution_count": null,
      "outputs": []
    }
  ]
}